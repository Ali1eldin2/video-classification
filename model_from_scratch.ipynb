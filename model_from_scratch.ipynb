{
 "cells": [
  {
   "cell_type": "code",
   "execution_count": 10,
   "id": "1d05976c",
   "metadata": {},
   "outputs": [],
   "source": [
    "import torch\n",
    "from torch.utils.data import Dataset, DataLoader\n",
    "from torchvision import transforms\n",
    "from PIL import Image\n",
    "import os\n",
    "\n",
    "class VideoDataset(Dataset):\n",
    "    def __init__(self, root_dir, num_frames=16, transform=None):\n",
    "        \"\"\"\n",
    "        Args:\n",
    "            root_dir (str): Path to split_data/train, split_data/val, or split_data/test\n",
    "            num_frames (int): Number of frames per video\n",
    "            transform: torchvision transforms to apply to each frame\n",
    "        \"\"\"\n",
    "        self.root_dir = root_dir\n",
    "        self.num_frames = num_frames\n",
    "        self.transform = transform\n",
    "\n",
    "        self.videos = []\n",
    "        self.labels = []\n",
    "\n",
    "        classes = {\"no_theft\": 0, \"store_theft\": 1}\n",
    "\n",
    "        for cls_name, label in classes.items():\n",
    "            cls_dir = os.path.join(root_dir, cls_name)\n",
    "            if not os.path.exists(cls_dir):\n",
    "                continue\n",
    "            for video_name in os.listdir(cls_dir):\n",
    "                video_path = os.path.join(cls_dir, video_name)\n",
    "                if os.path.isdir(video_path):\n",
    "                    self.videos.append(video_path)\n",
    "                    self.labels.append(label)\n",
    "\n",
    "    def __len__(self):\n",
    "        return len(self.videos)\n",
    "\n",
    "    def __getitem__(self, idx):\n",
    "        video_path = self.videos[idx]\n",
    "        label = self.labels[idx]\n",
    "\n",
    "        frames = []\n",
    "        frame_files = sorted(os.listdir(video_path))\n",
    "        for f in frame_files[:self.num_frames]:  # ensure same number of frames\n",
    "            frame_path = os.path.join(video_path, f)\n",
    "            img = Image.open(frame_path).convert(\"RGB\")\n",
    "            if self.transform:\n",
    "                img = self.transform(img)\n",
    "            frames.append(img)\n",
    "\n",
    "        # Stack frames: shape [num_frames, channels, height, width]\n",
    "        video_tensor = torch.stack(frames)\n",
    "        return video_tensor, torch.tensor(label, dtype=torch.long)\n"
   ]
  },
  {
   "cell_type": "code",
   "execution_count": 11,
   "id": "d8b3df4b",
   "metadata": {},
   "outputs": [],
   "source": [
    "# Example transforms for each frame\n",
    "frame_transforms = transforms.Compose([\n",
    "    transforms.Resize((224, 224)),\n",
    "    transforms.ToTensor(),  # convert to [0,1]\n",
    "    transforms.Normalize(mean=[0.485, 0.456, 0.406],\n",
    "                         std=[0.229, 0.224, 0.225])\n",
    "])\n",
    "\n",
    "train_dataset = VideoDataset(\"split_data/train\", num_frames=16, transform=frame_transforms)\n",
    "val_dataset   = VideoDataset(\"split_data/val\", num_frames=16, transform=frame_transforms)\n",
    "test_dataset  = VideoDataset(\"split_data/test\", num_frames=16, transform=frame_transforms)\n",
    "\n",
    "train_loader = DataLoader(train_dataset, batch_size=4, shuffle=True)\n",
    "val_loader   = DataLoader(val_dataset, batch_size=4)\n",
    "test_loader  = DataLoader(test_dataset, batch_size=4)\n"
   ]
  },
  {
   "cell_type": "markdown",
   "id": "8e872468",
   "metadata": {},
   "source": [
    "## 3D CNN from Scratch"
   ]
  },
  {
   "cell_type": "code",
   "execution_count": 3,
   "id": "3b6c7d1e",
   "metadata": {},
   "outputs": [],
   "source": [
    "import torch\n",
    "import torch.nn as nn\n",
    "import torch.nn.functional as F\n",
    "\n",
    "class Simple3DCNN(nn.Module):\n",
    "    def __init__(self, num_classes=2):\n",
    "        super(Simple3DCNN, self).__init__()\n",
    "        self.conv1 = nn.Conv3d(in_channels=3, out_channels=16, kernel_size=(3,3,3), padding=1)\n",
    "        self.pool1 = nn.MaxPool3d((1,2,2))  # pool spatially, keep temporal\n",
    "        self.conv2 = nn.Conv3d(16, 32, kernel_size=(3,3,3), padding=1)\n",
    "        self.pool2 = nn.MaxPool3d((2,2,2))\n",
    "        self.conv3 = nn.Conv3d(32, 64, kernel_size=(3,3,3), padding=1)\n",
    "        self.pool3 = nn.AdaptiveAvgPool3d((1,1,1))  # global avg pool\n",
    "        self.fc = nn.Linear(64, num_classes)\n",
    "\n",
    "    def forward(self, x):\n",
    "        # x shape: [batch, channels, frames, height, width]\n",
    "        x = F.relu(self.conv1(x))\n",
    "        x = self.pool1(x)\n",
    "        x = F.relu(self.conv2(x))\n",
    "        x = self.pool2(x)\n",
    "        x = F.relu(self.conv3(x))\n",
    "        x = self.pool3(x)\n",
    "        x = x.view(x.size(0), -1)  # flatten\n",
    "        x = self.fc(x)\n",
    "        return x\n"
   ]
  },
  {
   "cell_type": "code",
   "execution_count": null,
   "id": "61b63888",
   "metadata": {},
   "outputs": [],
   "source": [
    "import torch.optim as optim\n",
    "\n",
    "device = \"cuda\" if torch.cuda.is_available() else \"cpu\"\n",
    "model = Simple3DCNN(num_classes=2).to(device)\n",
    "\n",
    "criterion = nn.CrossEntropyLoss()\n",
    "optimizer = optim.Adam(model.parameters(), lr=1e-4)\n",
    "\n",
    "num_epochs = 10\n",
    "\n",
    "for epoch in range(num_epochs):\n",
    "    model.train()\n",
    "    running_loss = 0.0\n",
    "    correct = 0\n",
    "    total = 0\n",
    "\n",
    "    for videos, labels in train_loader:\n",
    "        videos = videos.permute(0, 2, 1, 3, 4).float().to(device)\n",
    "        labels = labels.to(device)\n",
    "\n",
    "        optimizer.zero_grad()\n",
    "        outputs = model(videos)\n",
    "        loss = criterion(outputs, labels)\n",
    "        loss.backward()\n",
    "        optimizer.step()\n",
    "\n",
    "        running_loss += loss.item()\n",
    "        _, predicted = torch.max(outputs, 1)\n",
    "        total += labels.size(0)\n",
    "        correct += (predicted == labels).sum().item()\n",
    "\n",
    "    print(f\"Epoch [{epoch+1}/{num_epochs}], \"\n",
    "          f\"Loss: {running_loss/len(train_loader):.4f}, \"\n",
    "          f\"Accuracy: {100*correct/total:.2f}%\")\n"
   ]
  },
  {
   "cell_type": "markdown",
   "id": "a6f0e197",
   "metadata": {},
   "source": [
    "### 1"
   ]
  },
  {
   "cell_type": "code",
   "execution_count": 12,
   "id": "ed0fa063",
   "metadata": {},
   "outputs": [
    {
     "name": "stdout",
     "output_type": "stream",
     "text": [
      "Using device: cpu\n"
     ]
    }
   ],
   "source": [
    "import torch\n",
    "import torch.nn as nn\n",
    "import torch.nn.functional as F\n",
    "import torch.optim as optim\n",
    "from torch.utils.data import DataLoader\n",
    "from tqdm import tqdm\n",
    "\n",
    "device = \"cuda\" if torch.cuda.is_available() else \"cpu\"\n",
    "print(\"Using device:\", device)\n"
   ]
  },
  {
   "cell_type": "code",
   "execution_count": 13,
   "id": "f90d86cc",
   "metadata": {},
   "outputs": [],
   "source": [
    "class Simple3DCNN(nn.Module):\n",
    "    def __init__(self, num_classes=2):\n",
    "        super(Simple3DCNN, self).__init__()\n",
    "        self.conv1 = nn.Conv3d(3, 16, kernel_size=(3,3,3), padding=1)\n",
    "        self.pool1 = nn.MaxPool3d((1,2,2))  # pool spatially only\n",
    "        self.conv2 = nn.Conv3d(16, 32, kernel_size=(3,3,3), padding=1)\n",
    "        self.pool2 = nn.MaxPool3d((2,2,2))\n",
    "        self.conv3 = nn.Conv3d(32, 64, kernel_size=(3,3,3), padding=1)\n",
    "        self.pool3 = nn.AdaptiveAvgPool3d((1,1,1))  # global avg pool\n",
    "        self.fc = nn.Linear(64, num_classes)\n",
    "\n",
    "    def forward(self, x):\n",
    "        # x shape: [B, C, T, H, W]\n",
    "        x = F.relu(self.conv1(x))\n",
    "        x = self.pool1(x)\n",
    "        x = F.relu(self.conv2(x))\n",
    "        x = self.pool2(x)\n",
    "        x = F.relu(self.conv3(x))\n",
    "        x = self.pool3(x)\n",
    "        x = x.view(x.size(0), -1)\n",
    "        x = self.fc(x)\n",
    "        return x\n",
    "\n",
    "model = Simple3DCNN(num_classes=2).to(device)\n"
   ]
  },
  {
   "cell_type": "code",
   "execution_count": 17,
   "id": "623b0abb",
   "metadata": {},
   "outputs": [],
   "source": [
    "class Improved3DCNN(nn.Module):\n",
    "    def __init__(self, num_classes=2):\n",
    "        super(Improved3DCNN, self).__init__()\n",
    "        # Conv block 1\n",
    "        self.conv1 = nn.Conv3d(3, 32, kernel_size=(3,3,3), padding=1)\n",
    "        self.bn1 = nn.BatchNorm3d(32)\n",
    "        self.pool1 = nn.MaxPool3d((1,2,2))\n",
    "        \n",
    "        # Conv block 2\n",
    "        self.conv2 = nn.Conv3d(32, 64, kernel_size=(3,3,3), padding=1)\n",
    "        self.bn2 = nn.BatchNorm3d(64)\n",
    "        self.pool2 = nn.MaxPool3d((2,2,2))\n",
    "        \n",
    "        # Conv block 3\n",
    "        self.conv3 = nn.Conv3d(64, 128, kernel_size=(3,3,3), padding=1)\n",
    "        self.bn3 = nn.BatchNorm3d(128)\n",
    "        self.pool3 = nn.AdaptiveAvgPool3d((1,1,1))  # global avg pool\n",
    "        \n",
    "        # Fully connected\n",
    "        self.fc = nn.Linear(128, num_classes)\n",
    "\n",
    "    def forward(self, x):\n",
    "        x = F.relu(self.bn1(self.conv1(x)))\n",
    "        x = self.pool1(x)\n",
    "        x = F.relu(self.bn2(self.conv2(x)))\n",
    "        x = self.pool2(x)\n",
    "        x = F.relu(self.bn3(self.conv3(x)))\n",
    "        x = self.pool3(x)\n",
    "        x = x.view(x.size(0), -1)\n",
    "        x = self.fc(x)\n",
    "        return x\n",
    "\n",
    "model = Improved3DCNN(num_classes=2).to(device)"
   ]
  },
  {
   "cell_type": "code",
   "execution_count": 18,
   "id": "0473e8d0",
   "metadata": {},
   "outputs": [],
   "source": [
    "criterion = nn.CrossEntropyLoss()\n",
    "optimizer = optim.Adam(model.parameters(), lr=1e-4)\n",
    "num_epochs = 15\n"
   ]
  },
  {
   "cell_type": "code",
   "execution_count": 19,
   "id": "a6d2e0f8",
   "metadata": {},
   "outputs": [
    {
     "name": "stderr",
     "output_type": "stream",
     "text": [
      "Epoch 1/15: 100%|██████████| 112/112 [01:49<00:00,  1.02it/s]\n"
     ]
    },
    {
     "name": "stdout",
     "output_type": "stream",
     "text": [
      "Epoch 1/15 | Loss: 0.6870 | Train Acc: 53.93% | Val Acc: 58.51%\n"
     ]
    },
    {
     "name": "stderr",
     "output_type": "stream",
     "text": [
      "Epoch 2/15: 100%|██████████| 112/112 [01:41<00:00,  1.11it/s]\n"
     ]
    },
    {
     "name": "stdout",
     "output_type": "stream",
     "text": [
      "Epoch 2/15 | Loss: 0.6552 | Train Acc: 66.29% | Val Acc: 51.06%\n"
     ]
    },
    {
     "name": "stderr",
     "output_type": "stream",
     "text": [
      "Epoch 3/15: 100%|██████████| 112/112 [01:41<00:00,  1.10it/s]\n"
     ]
    },
    {
     "name": "stdout",
     "output_type": "stream",
     "text": [
      "Epoch 3/15 | Loss: 0.6323 | Train Acc: 67.64% | Val Acc: 51.06%\n"
     ]
    },
    {
     "name": "stderr",
     "output_type": "stream",
     "text": [
      "Epoch 4/15: 100%|██████████| 112/112 [01:45<00:00,  1.06it/s]\n"
     ]
    },
    {
     "name": "stdout",
     "output_type": "stream",
     "text": [
      "Epoch 4/15 | Loss: 0.6057 | Train Acc: 71.24% | Val Acc: 48.94%\n"
     ]
    },
    {
     "name": "stderr",
     "output_type": "stream",
     "text": [
      "Epoch 5/15: 100%|██████████| 112/112 [01:41<00:00,  1.11it/s]\n"
     ]
    },
    {
     "name": "stdout",
     "output_type": "stream",
     "text": [
      "Epoch 5/15 | Loss: 0.5865 | Train Acc: 73.93% | Val Acc: 48.94%\n"
     ]
    },
    {
     "name": "stderr",
     "output_type": "stream",
     "text": [
      "Epoch 6/15: 100%|██████████| 112/112 [01:41<00:00,  1.10it/s]\n"
     ]
    },
    {
     "name": "stdout",
     "output_type": "stream",
     "text": [
      "Epoch 6/15 | Loss: 0.5766 | Train Acc: 73.03% | Val Acc: 52.13%\n"
     ]
    },
    {
     "name": "stderr",
     "output_type": "stream",
     "text": [
      "Epoch 7/15: 100%|██████████| 112/112 [01:41<00:00,  1.10it/s]\n"
     ]
    },
    {
     "name": "stdout",
     "output_type": "stream",
     "text": [
      "Epoch 7/15 | Loss: 0.5366 | Train Acc: 80.90% | Val Acc: 51.06%\n"
     ]
    },
    {
     "name": "stderr",
     "output_type": "stream",
     "text": [
      "Epoch 8/15: 100%|██████████| 112/112 [01:41<00:00,  1.11it/s]\n"
     ]
    },
    {
     "name": "stdout",
     "output_type": "stream",
     "text": [
      "Epoch 8/15 | Loss: 0.4861 | Train Acc: 83.82% | Val Acc: 96.81%\n"
     ]
    },
    {
     "name": "stderr",
     "output_type": "stream",
     "text": [
      "Epoch 9/15: 100%|██████████| 112/112 [01:44<00:00,  1.07it/s]\n"
     ]
    },
    {
     "name": "stdout",
     "output_type": "stream",
     "text": [
      "Epoch 9/15 | Loss: 0.4687 | Train Acc: 84.94% | Val Acc: 97.87%\n"
     ]
    },
    {
     "name": "stderr",
     "output_type": "stream",
     "text": [
      "Epoch 10/15: 100%|██████████| 112/112 [01:41<00:00,  1.10it/s]\n"
     ]
    },
    {
     "name": "stdout",
     "output_type": "stream",
     "text": [
      "Epoch 10/15 | Loss: 0.4556 | Train Acc: 84.27% | Val Acc: 51.06%\n"
     ]
    },
    {
     "name": "stderr",
     "output_type": "stream",
     "text": [
      "Epoch 11/15: 100%|██████████| 112/112 [01:41<00:00,  1.10it/s]\n"
     ]
    },
    {
     "name": "stdout",
     "output_type": "stream",
     "text": [
      "Epoch 11/15 | Loss: 0.4531 | Train Acc: 84.72% | Val Acc: 51.06%\n"
     ]
    },
    {
     "name": "stderr",
     "output_type": "stream",
     "text": [
      "Epoch 12/15: 100%|██████████| 112/112 [01:41<00:00,  1.10it/s]\n"
     ]
    },
    {
     "name": "stdout",
     "output_type": "stream",
     "text": [
      "Epoch 12/15 | Loss: 0.4164 | Train Acc: 88.54% | Val Acc: 48.94%\n"
     ]
    },
    {
     "name": "stderr",
     "output_type": "stream",
     "text": [
      "Epoch 13/15: 100%|██████████| 112/112 [01:45<00:00,  1.06it/s]\n"
     ]
    },
    {
     "name": "stdout",
     "output_type": "stream",
     "text": [
      "Epoch 13/15 | Loss: 0.4372 | Train Acc: 85.17% | Val Acc: 63.83%\n"
     ]
    },
    {
     "name": "stderr",
     "output_type": "stream",
     "text": [
      "Epoch 14/15: 100%|██████████| 112/112 [01:42<00:00,  1.09it/s]\n"
     ]
    },
    {
     "name": "stdout",
     "output_type": "stream",
     "text": [
      "Epoch 14/15 | Loss: 0.4112 | Train Acc: 86.07% | Val Acc: 48.94%\n"
     ]
    },
    {
     "name": "stderr",
     "output_type": "stream",
     "text": [
      "Epoch 15/15: 100%|██████████| 112/112 [01:48<00:00,  1.03it/s]\n"
     ]
    },
    {
     "name": "stdout",
     "output_type": "stream",
     "text": [
      "Epoch 15/15 | Loss: 0.3709 | Train Acc: 90.11% | Val Acc: 95.74%\n"
     ]
    }
   ],
   "source": [
    "for epoch in range(num_epochs):\n",
    "    model.train()\n",
    "    running_loss = 0\n",
    "    correct = 0\n",
    "    total = 0\n",
    "\n",
    "    for videos, labels in tqdm(train_loader, desc=f\"Epoch {epoch+1}/{num_epochs}\"):\n",
    "        # Permute to [B, C, T, H, W]\n",
    "        videos = videos.permute(0, 2, 1, 3, 4).float().to(device)\n",
    "        labels = labels.to(device)\n",
    "\n",
    "        optimizer.zero_grad()\n",
    "        outputs = model(videos)\n",
    "        loss = criterion(outputs, labels)\n",
    "        loss.backward()\n",
    "        optimizer.step()\n",
    "\n",
    "        running_loss += loss.item()\n",
    "        _, predicted = torch.max(outputs, 1)\n",
    "        total += labels.size(0)\n",
    "        correct += (predicted == labels).sum().item()\n",
    "\n",
    "    train_acc = 100 * correct / total\n",
    "\n",
    "    # Validation\n",
    "    model.eval()\n",
    "    val_correct = 0\n",
    "    val_total = 0\n",
    "    with torch.no_grad():\n",
    "        for videos, labels in val_loader:\n",
    "            videos = videos.permute(0, 2, 1, 3, 4).float().to(device)\n",
    "            labels = labels.to(device)\n",
    "            outputs = model(videos)\n",
    "            _, predicted = torch.max(outputs, 1)\n",
    "            val_total += labels.size(0)\n",
    "            val_correct += (predicted == labels).sum().item()\n",
    "    val_acc = 100 * val_correct / val_total\n",
    "\n",
    "    print(f\"Epoch {epoch+1}/{num_epochs} | \"\n",
    "          f\"Loss: {running_loss/len(train_loader):.4f} | \"\n",
    "          f\"Train Acc: {train_acc:.2f}% | Val Acc: {val_acc:.2f}%\")\n"
   ]
  },
  {
   "cell_type": "code",
   "execution_count": 20,
   "id": "4f9e1fbf",
   "metadata": {},
   "outputs": [
    {
     "name": "stdout",
     "output_type": "stream",
     "text": [
      "Test Accuracy: 95.92%\n"
     ]
    }
   ],
   "source": [
    "model.eval()\n",
    "test_correct = 0\n",
    "test_total = 0\n",
    "\n",
    "with torch.no_grad():\n",
    "    for videos, labels in test_loader:\n",
    "        videos = videos.permute(0, 2, 1, 3, 4).float().to(device)\n",
    "        labels = labels.to(device)\n",
    "        outputs = model(videos)\n",
    "        _, predicted = torch.max(outputs, 1)\n",
    "        test_total += labels.size(0)\n",
    "        test_correct += (predicted == labels).sum().item()\n",
    "\n",
    "test_acc = 100 * test_correct / test_total\n",
    "print(f\"Test Accuracy: {test_acc:.2f}%\")\n"
   ]
  },
  {
   "cell_type": "code",
   "execution_count": 21,
   "id": "462e3a61",
   "metadata": {},
   "outputs": [],
   "source": [
    "torch.save(model.state_dict(), \"model_scratch_weights.pth\")\n"
   ]
  },
  {
   "cell_type": "code",
   "execution_count": null,
   "id": "1b6c178c",
   "metadata": {},
   "outputs": [],
   "source": []
  }
 ],
 "metadata": {
  "kernelspec": {
   "display_name": "cellula_cv3",
   "language": "python",
   "name": "python3"
  },
  "language_info": {
   "codemirror_mode": {
    "name": "ipython",
    "version": 3
   },
   "file_extension": ".py",
   "mimetype": "text/x-python",
   "name": "python",
   "nbconvert_exporter": "python",
   "pygments_lexer": "ipython3",
   "version": "3.11.13"
  }
 },
 "nbformat": 4,
 "nbformat_minor": 5
}
