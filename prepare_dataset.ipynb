{
 "cells": [
  {
   "cell_type": "code",
   "execution_count": 1,
   "id": "6778a089",
   "metadata": {},
   "outputs": [],
   "source": [
    "import pandas as np"
   ]
  },
  {
   "cell_type": "code",
   "execution_count": null,
   "id": "fb0aab70",
   "metadata": {},
   "outputs": [],
   "source": [
    "import os\n",
    "import cv2\n",
    "import numpy as np\n",
    "from tqdm import tqdm\n",
    "\n",
    "def extract_frames(video_path, output_dir, num_frames=16, size=(224, 224)):\n",
    "    os.makedirs(output_dir, exist_ok=True)\n",
    "    cap = cv2.VideoCapture(video_path)\n",
    "    total = int(cap.get(cv2.CAP_PROP_FRAME_COUNT))\n",
    "    if total == 0:\n",
    "        print(f\"⚠️ Skipping empty video: {video_path}\")\n",
    "        return\n",
    "    \n",
    "    indices = np.linspace(0, total - 1, num=num_frames, dtype=int)\n",
    "    \n",
    "    for count, idx in enumerate(indices):\n",
    "        cap.set(cv2.CAP_PROP_POS_FRAMES, idx)\n",
    "        ret, frame = cap.read()\n",
    "        if ret:\n",
    "            frame = cv2.resize(frame, size)\n",
    "            save_path = os.path.join(output_dir, f\"frame_{count:03d}.jpg\")\n",
    "            cv2.imwrite(save_path, frame)\n",
    "    cap.release()\n",
    "\n",
    "def process_dataset(input_root, output_root, num_frames=16):\n",
    "    classes = [\"store_theft\", \"no_theft\"]\n",
    "    for cls in classes:\n",
    "        input_dir = os.path.join(input_root, cls)\n",
    "        output_dir = os.path.join(output_root, cls)\n",
    "        os.makedirs(output_dir, exist_ok=True)\n",
    "\n",
    "        videos = [f for f in os.listdir(input_dir) if f.endswith(('.mp4', '.avi', '.mov'))]\n",
    "        for v in tqdm(videos, desc=f\"Processing {cls}\"):\n",
    "            video_path = os.path.join(input_dir, v)\n",
    "            video_name = os.path.splitext(v)[0]\n",
    "            video_out_dir = os.path.join(output_dir, video_name)\n",
    "            extract_frames(video_path, video_out_dir, num_frames=num_frames)\n",
    "\n",
    "# Example usage\n",
    "process_dataset(\n",
    "    input_root=\"dataset\",\n",
    "    output_root=\"processed_data\",\n",
    "    num_frames=16\n",
    ")\n"
   ]
  },
  {
   "cell_type": "code",
   "execution_count": null,
   "id": "47c328ad",
   "metadata": {},
   "outputs": [],
   "source": [
    "import shutil\n",
    "import random\n",
    "import os\n",
    "\n",
    "def split_dataset(base_dir=\"processed_data\", output_root=\"split_data\", train_ratio=0.7, val_ratio=0.15):\n",
    "    classes = [\"store_theft\", \"no_theft\"]\n",
    "    for cls in classes:\n",
    "        input_dir = os.path.join(base_dir, cls)\n",
    "        videos = os.listdir(input_dir)\n",
    "        random.shuffle(videos)\n",
    "        \n",
    "        n = len(videos)\n",
    "        n_train = int(n * train_ratio)\n",
    "        n_val = int(n * val_ratio)\n",
    "\n",
    "        splits = {\n",
    "            \"train\": videos[:n_train],\n",
    "            \"val\": videos[n_train:n_train+n_val],\n",
    "            \"test\": videos[n_train+n_val:]\n",
    "        }\n",
    "\n",
    "        for split_name, vids in splits.items():\n",
    "            for v in vids:\n",
    "                src = os.path.join(input_dir, v)\n",
    "                dst = os.path.join(output_root, split_name, cls, v)\n",
    "                shutil.copytree(src, dst, dirs_exist_ok=True)\n",
    "\n",
    "split_dataset(\"processed_data\", \"split_data\")\n"
   ]
  }
 ],
 "metadata": {
  "kernelspec": {
   "display_name": "cellula_cv3",
   "language": "python",
   "name": "python3"
  },
  "language_info": {
   "codemirror_mode": {
    "name": "ipython",
    "version": 3
   },
   "file_extension": ".py",
   "mimetype": "text/x-python",
   "name": "python",
   "nbconvert_exporter": "python",
   "pygments_lexer": "ipython3",
   "version": "3.11.13"
  }
 },
 "nbformat": 4,
 "nbformat_minor": 5
}
