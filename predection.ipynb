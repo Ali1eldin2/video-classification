{
 "cells": [
  {
   "cell_type": "code",
   "execution_count": 1,
   "id": "fbc806a1",
   "metadata": {},
   "outputs": [],
   "source": [
    "import torch\n",
    "import torch.nn as nn\n",
    "import torch.nn.functional as F\n",
    "from torchvision import transforms\n",
    "from PIL import Image\n",
    "import numpy as np\n",
    "import cv2\n",
    "import os"
   ]
  },
  {
   "cell_type": "code",
   "execution_count": null,
   "id": "7c971b57",
   "metadata": {},
   "outputs": [],
   "source": [
    "# 1️⃣ Define the same model\n",
    "\n",
    "class Improved3DCNN(nn.Module):\n",
    "    def __init__(self, num_classes=2):\n",
    "        super(Improved3DCNN, self).__init__()\n",
    "        self.conv1 = nn.Conv3d(3, 32, kernel_size=(3,3,3), padding=1)\n",
    "        self.bn1 = nn.BatchNorm3d(32)\n",
    "        self.pool1 = nn.MaxPool3d((1,2,2))\n",
    "        self.conv2 = nn.Conv3d(32, 64, kernel_size=(3,3,3), padding=1)\n",
    "        self.bn2 = nn.BatchNorm3d(64)\n",
    "        self.pool2 = nn.MaxPool3d((2,2,2))\n",
    "        self.conv3 = nn.Conv3d(64, 128, kernel_size=(3,3,3), padding=1)\n",
    "        self.bn3 = nn.BatchNorm3d(128)\n",
    "        self.pool3 = nn.AdaptiveAvgPool3d((1,1,1))\n",
    "        self.fc = nn.Linear(128, num_classes)\n",
    "\n",
    "    def forward(self, x):\n",
    "        x = F.relu(self.bn1(self.conv1(x)))\n",
    "        x = self.pool1(x)\n",
    "        x = F.relu(self.bn2(self.conv2(x)))\n",
    "        x = self.pool2(x)\n",
    "        x = F.relu(self.bn3(self.conv3(x)))\n",
    "        x = self.pool3(x)\n",
    "        x = x.view(x.size(0), -1)\n",
    "        x = self.fc(x)\n",
    "        return x\n"
   ]
  },
  {
   "cell_type": "code",
   "execution_count": null,
   "id": "91126b9a",
   "metadata": {},
   "outputs": [
    {
     "name": "stderr",
     "output_type": "stream",
     "text": [
      "C:\\Users\\Alieldin\\AppData\\Local\\Temp\\ipykernel_16344\\4088360614.py:5: FutureWarning: You are using `torch.load` with `weights_only=False` (the current default value), which uses the default pickle module implicitly. It is possible to construct malicious pickle data which will execute arbitrary code during unpickling (See https://github.com/pytorch/pytorch/blob/main/SECURITY.md#untrusted-models for more details). In a future release, the default value for `weights_only` will be flipped to `True`. This limits the functions that could be executed during unpickling. Arbitrary objects will no longer be allowed to be loaded via this mode unless they are explicitly allowlisted by the user via `torch.serialization.add_safe_globals`. We recommend you start setting `weights_only=True` for any use case where you don't have full control of the loaded file. Please open an issue on GitHub for any issues related to this experimental feature.\n",
      "  model.load_state_dict(torch.load(\"model_scratch_weights.pth\", map_location=device))\n"
     ]
    },
    {
     "data": {
      "text/plain": [
       "Improved3DCNN(\n",
       "  (conv1): Conv3d(3, 32, kernel_size=(3, 3, 3), stride=(1, 1, 1), padding=(1, 1, 1))\n",
       "  (bn1): BatchNorm3d(32, eps=1e-05, momentum=0.1, affine=True, track_running_stats=True)\n",
       "  (pool1): MaxPool3d(kernel_size=(1, 2, 2), stride=(1, 2, 2), padding=0, dilation=1, ceil_mode=False)\n",
       "  (conv2): Conv3d(32, 64, kernel_size=(3, 3, 3), stride=(1, 1, 1), padding=(1, 1, 1))\n",
       "  (bn2): BatchNorm3d(64, eps=1e-05, momentum=0.1, affine=True, track_running_stats=True)\n",
       "  (pool2): MaxPool3d(kernel_size=(2, 2, 2), stride=(2, 2, 2), padding=0, dilation=1, ceil_mode=False)\n",
       "  (conv3): Conv3d(64, 128, kernel_size=(3, 3, 3), stride=(1, 1, 1), padding=(1, 1, 1))\n",
       "  (bn3): BatchNorm3d(128, eps=1e-05, momentum=0.1, affine=True, track_running_stats=True)\n",
       "  (pool3): AdaptiveAvgPool3d(output_size=(1, 1, 1))\n",
       "  (fc): Linear(in_features=128, out_features=2, bias=True)\n",
       ")"
      ]
     },
     "execution_count": 3,
     "metadata": {},
     "output_type": "execute_result"
    }
   ],
   "source": [
    "# 2️⃣ Load trained model\n",
    "\n",
    "device = \"cuda\" if torch.cuda.is_available() else \"cpu\"\n",
    "model = Improved3DCNN(num_classes=2).to(device)\n",
    "model.load_state_dict(torch.load(\"model_scratch_weights.pth\", map_location=device))\n",
    "model.eval()"
   ]
  },
  {
   "cell_type": "code",
   "execution_count": null,
   "id": "30e594ee",
   "metadata": {},
   "outputs": [],
   "source": [
    "# 3️⃣ Define transforms\n",
    "\n",
    "frame_transforms = transforms.Compose([\n",
    "    transforms.Resize((224, 224)),\n",
    "    transforms.ToTensor(),\n",
    "    transforms.Normalize(mean=[0.485, 0.456, 0.406],\n",
    "                         std=[0.229, 0.224, 0.225])\n",
    "])\n"
   ]
  },
  {
   "cell_type": "code",
   "execution_count": null,
   "id": "b17d0830",
   "metadata": {},
   "outputs": [],
   "source": [
    "# 4️⃣ Function to extract frames from video\n",
    "\n",
    "def extract_video_frames(video_path, num_frames=16, size=(224, 224)):\n",
    "    cap = cv2.VideoCapture(video_path)\n",
    "    total = int(cap.get(cv2.CAP_PROP_FRAME_COUNT))\n",
    "    if total == 0:\n",
    "        raise ValueError(f\"Empty video: {video_path}\")\n",
    "\n",
    "    indices = np.linspace(0, total - 1, num=num_frames, dtype=int)\n",
    "    frames = []\n",
    "\n",
    "    for idx in indices:\n",
    "        cap.set(cv2.CAP_PROP_POS_FRAMES, idx)\n",
    "        ret, frame = cap.read()\n",
    "        if ret:\n",
    "            frame = cv2.cvtColor(frame, cv2.COLOR_BGR2RGB)\n",
    "            img = Image.fromarray(frame)\n",
    "            img = frame_transforms(img)\n",
    "            frames.append(img)\n",
    "    cap.release()\n",
    "    return torch.stack(frames)  # shape: [T, C, H, W]\n"
   ]
  },
  {
   "cell_type": "code",
   "execution_count": null,
   "id": "1de484d6",
   "metadata": {},
   "outputs": [],
   "source": [
    "# 5️⃣ Prediction function\n",
    "\n",
    "def predict_video(video_path):\n",
    "    video_tensor = extract_video_frames(video_path, num_frames=16)\n",
    "    video_tensor = video_tensor.unsqueeze(0)  # [1, T, C, H, W]\n",
    "    video_tensor = video_tensor.permute(0, 2, 1, 3, 4).to(device)  # [1, C, T, H, W]\n",
    "\n",
    "    with torch.no_grad():\n",
    "        outputs = model(video_tensor)\n",
    "        probs = torch.softmax(outputs, dim=1)\n",
    "        pred_class = torch.argmax(probs, dim=1).item()\n",
    "        confidence = probs[0, pred_class].item()\n",
    "\n",
    "    label_map = {0: \"no_theft\", 1: \"store_theft\"}\n",
    "    print(f\"🧾 Prediction: {label_map[pred_class]} (confidence {confidence:.2f})\")\n",
    "    return label_map[pred_class], confidence"
   ]
  },
  {
   "cell_type": "code",
   "execution_count": null,
   "id": "9daa8b16",
   "metadata": {},
   "outputs": [
    {
     "name": "stdout",
     "output_type": "stream",
     "text": [
      "🧾 Prediction: no_theft (confidence 0.70)\n"
     ]
    },
    {
     "data": {
      "text/plain": [
       "('no_theft', 0.7003263831138611)"
      ]
     },
     "execution_count": 16,
     "metadata": {},
     "output_type": "execute_result"
    }
   ],
   "source": [
    "# 6️⃣ Example usage\n",
    "\n",
    "video_path = r\"D:\\cellula\\task3\\dataset\\no_theft\\shop_lifter_n_42.mp4\"  # ⬅️ put your video path here\n",
    "predict_video(video_path)"
   ]
  },
  {
   "cell_type": "code",
   "execution_count": 17,
   "id": "3fd0cb46",
   "metadata": {},
   "outputs": [
    {
     "name": "stdout",
     "output_type": "stream",
     "text": [
      "🧾 Prediction: store_theft (confidence 0.62)\n"
     ]
    },
    {
     "data": {
      "text/plain": [
       "('store_theft', 0.6183863282203674)"
      ]
     },
     "execution_count": 17,
     "metadata": {},
     "output_type": "execute_result"
    }
   ],
   "source": [
    "\n",
    "video_path = r\"D:\\cellula\\task3\\dataset\\store_theft\\shop_lifter_4.mp4\"  # ⬅️ put your video path here\n",
    "predict_video(video_path)"
   ]
  },
  {
   "cell_type": "code",
   "execution_count": 18,
   "id": "b76e98df",
   "metadata": {},
   "outputs": [
    {
     "name": "stdout",
     "output_type": "stream",
     "text": [
      "🧾 Prediction: store_theft (confidence 0.62)\n"
     ]
    },
    {
     "data": {
      "text/plain": [
       "('store_theft', 0.6197575330734253)"
      ]
     },
     "execution_count": 18,
     "metadata": {},
     "output_type": "execute_result"
    }
   ],
   "source": [
    "\n",
    "video_path = r\"D:\\cellula\\task3\\dataset\\store_theft\\shop_lifter_5.mp4\"  # ⬅️ put your video path here\n",
    "predict_video(video_path)"
   ]
  },
  {
   "cell_type": "code",
   "execution_count": 21,
   "id": "8ed24305",
   "metadata": {},
   "outputs": [
    {
     "name": "stdout",
     "output_type": "stream",
     "text": [
      "🧾 Prediction: store_theft (confidence 0.62)\n"
     ]
    },
    {
     "data": {
      "text/plain": [
       "('store_theft', 0.621143639087677)"
      ]
     },
     "execution_count": 21,
     "metadata": {},
     "output_type": "execute_result"
    }
   ],
   "source": [
    "video_path = r\"D:\\cellula\\task3\\dataset\\store_theft\\shop_lifter_1.mp4\"  # ⬅️ put your video path here\n",
    "predict_video(video_path)"
   ]
  },
  {
   "cell_type": "code",
   "execution_count": null,
   "id": "4dd83e17",
   "metadata": {},
   "outputs": [],
   "source": []
  }
 ],
 "metadata": {
  "kernelspec": {
   "display_name": "cellula_cv3",
   "language": "python",
   "name": "python3"
  },
  "language_info": {
   "codemirror_mode": {
    "name": "ipython",
    "version": 3
   },
   "file_extension": ".py",
   "mimetype": "text/x-python",
   "name": "python",
   "nbconvert_exporter": "python",
   "pygments_lexer": "ipython3",
   "version": "3.11.13"
  }
 },
 "nbformat": 4,
 "nbformat_minor": 5
}
